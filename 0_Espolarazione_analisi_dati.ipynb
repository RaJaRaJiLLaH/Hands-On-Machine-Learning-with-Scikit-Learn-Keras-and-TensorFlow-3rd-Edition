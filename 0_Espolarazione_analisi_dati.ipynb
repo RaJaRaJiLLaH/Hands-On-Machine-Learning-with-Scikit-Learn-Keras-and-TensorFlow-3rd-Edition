{
  "nbformat": 4,
  "nbformat_minor": 0,
  "metadata": {
    "colab": {
      "provenance": [],
      "authorship_tag": "ABX9TyO+l+I6avcVMaPLXJjD94GA",
      "include_colab_link": true
    },
    "kernelspec": {
      "name": "python3",
      "display_name": "Python 3"
    },
    "language_info": {
      "name": "python"
    }
  },
  "cells": [
    {
      "cell_type": "markdown",
      "metadata": {
        "id": "view-in-github",
        "colab_type": "text"
      },
      "source": [
        "<a href=\"https://colab.research.google.com/github/RaJaRaJiLLaH/Hands-On-Machine-Learning-with-Scikit-Learn-Keras-and-TensorFlow-3rd-Edition/blob/main/0_Espolarazione_analisi_dati.ipynb\" target=\"_parent\"><img src=\"https://colab.research.google.com/assets/colab-badge.svg\" alt=\"Open In Colab\"/></a>"
      ]
    },
    {
      "cell_type": "markdown",
      "source": [
        "Importo **librerie** "
      ],
      "metadata": {
        "id": "4aGBAP-XEMEF"
      }
    },
    {
      "cell_type": "code",
      "execution_count": 1,
      "metadata": {
        "id": "iQh9LbX1Ct1F"
      },
      "outputs": [],
      "source": [
        "import pandas as pd\n",
        "import numpy as np"
      ]
    },
    {
      "cell_type": "markdown",
      "source": [
        "Creazione Dataframe"
      ],
      "metadata": {
        "id": "IO-PJwS4EZ6P"
      }
    },
    {
      "cell_type": "code",
      "source": [
        "df_anagrafica= pd.read_excel('/content/0_dataset_input/anagrafica_cellule_wecare.xlsx')\n",
        "df_anagrafica.head(5)\n"
      ],
      "metadata": {
        "colab": {
          "base_uri": "https://localhost:8080/",
          "height": 337
        },
        "id": "bAoVtM0REUkX",
        "outputId": "5d6a7bea-6809-44a8-eb1b-e5b6924dbd50"
      },
      "execution_count": 4,
      "outputs": [
        {
          "output_type": "execute_result",
          "data": {
            "text/plain": [
              "  Codice_Servizio Personal_Assistant        Fornitore Data_attivazione  \\\n",
              "0            WC94        RESOLDUNOCD          Comdata       2020-10-29   \n",
              "1            WC31        RESOLDUNOAS           Assist       2020-11-05   \n",
              "2            WC52        RESOLDDUETP  Teleperformance       2020-11-23   \n",
              "3            WC92        RESOLDDUECD          Comdata       2020-12-21   \n",
              "4            WC54        RESOLDTRETP  Teleperformance       2021-01-11   \n",
              "\n",
              "                                     Caratteristiche  \\\n",
              "0          clienti>6mesi residenti in regione Veneto   \n",
              "1  Clienti>6mesi residenti in provincia di Napoli...   \n",
              "2                 clienti>6mesi residenti in Sicilia   \n",
              "3  clienti>6mesi residenti in Piemonte e Val d'Ao...   \n",
              "4      clienti>6mesi residenti in Calabria e Abruzzo   \n",
              "\n",
              "                                Capacità portafoglio  \\\n",
              "0                                             280000   \n",
              "1                                             270000   \n",
              "2                                             290000   \n",
              "3  139.614\\n(attualmente sono al 50% dl totale cl...   \n",
              "4                                             270000   \n",
              "\n",
              "                                       Elenco_comuni  \n",
              "0                                                NaN  \n",
              "1  ANACAPRI,BARANO D\\'ISCHIA,CAMPOSANO,CAPRI,CARB...  \n",
              "2                                                NaN  \n",
              "3  ANDRATE,CAREMA,NOMAGLIO,QUASSOLO,QUINCINETTO,S...  \n",
              "4                                                     "
            ],
            "text/html": [
              "\n",
              "  <div id=\"df-6b4f4cd4-86c4-4157-8321-478d8c049294\">\n",
              "    <div class=\"colab-df-container\">\n",
              "      <div>\n",
              "<style scoped>\n",
              "    .dataframe tbody tr th:only-of-type {\n",
              "        vertical-align: middle;\n",
              "    }\n",
              "\n",
              "    .dataframe tbody tr th {\n",
              "        vertical-align: top;\n",
              "    }\n",
              "\n",
              "    .dataframe thead th {\n",
              "        text-align: right;\n",
              "    }\n",
              "</style>\n",
              "<table border=\"1\" class=\"dataframe\">\n",
              "  <thead>\n",
              "    <tr style=\"text-align: right;\">\n",
              "      <th></th>\n",
              "      <th>Codice_Servizio</th>\n",
              "      <th>Personal_Assistant</th>\n",
              "      <th>Fornitore</th>\n",
              "      <th>Data_attivazione</th>\n",
              "      <th>Caratteristiche</th>\n",
              "      <th>Capacità portafoglio</th>\n",
              "      <th>Elenco_comuni</th>\n",
              "    </tr>\n",
              "  </thead>\n",
              "  <tbody>\n",
              "    <tr>\n",
              "      <th>0</th>\n",
              "      <td>WC94</td>\n",
              "      <td>RESOLDUNOCD</td>\n",
              "      <td>Comdata</td>\n",
              "      <td>2020-10-29</td>\n",
              "      <td>clienti&gt;6mesi residenti in regione Veneto</td>\n",
              "      <td>280000</td>\n",
              "      <td>NaN</td>\n",
              "    </tr>\n",
              "    <tr>\n",
              "      <th>1</th>\n",
              "      <td>WC31</td>\n",
              "      <td>RESOLDUNOAS</td>\n",
              "      <td>Assist</td>\n",
              "      <td>2020-11-05</td>\n",
              "      <td>Clienti&gt;6mesi residenti in provincia di Napoli...</td>\n",
              "      <td>270000</td>\n",
              "      <td>ANACAPRI,BARANO D\\'ISCHIA,CAMPOSANO,CAPRI,CARB...</td>\n",
              "    </tr>\n",
              "    <tr>\n",
              "      <th>2</th>\n",
              "      <td>WC52</td>\n",
              "      <td>RESOLDDUETP</td>\n",
              "      <td>Teleperformance</td>\n",
              "      <td>2020-11-23</td>\n",
              "      <td>clienti&gt;6mesi residenti in Sicilia</td>\n",
              "      <td>290000</td>\n",
              "      <td>NaN</td>\n",
              "    </tr>\n",
              "    <tr>\n",
              "      <th>3</th>\n",
              "      <td>WC92</td>\n",
              "      <td>RESOLDDUECD</td>\n",
              "      <td>Comdata</td>\n",
              "      <td>2020-12-21</td>\n",
              "      <td>clienti&gt;6mesi residenti in Piemonte e Val d'Ao...</td>\n",
              "      <td>139.614\\n(attualmente sono al 50% dl totale cl...</td>\n",
              "      <td>ANDRATE,CAREMA,NOMAGLIO,QUASSOLO,QUINCINETTO,S...</td>\n",
              "    </tr>\n",
              "    <tr>\n",
              "      <th>4</th>\n",
              "      <td>WC54</td>\n",
              "      <td>RESOLDTRETP</td>\n",
              "      <td>Teleperformance</td>\n",
              "      <td>2021-01-11</td>\n",
              "      <td>clienti&gt;6mesi residenti in Calabria e Abruzzo</td>\n",
              "      <td>270000</td>\n",
              "      <td></td>\n",
              "    </tr>\n",
              "  </tbody>\n",
              "</table>\n",
              "</div>\n",
              "      <button class=\"colab-df-convert\" onclick=\"convertToInteractive('df-6b4f4cd4-86c4-4157-8321-478d8c049294')\"\n",
              "              title=\"Convert this dataframe to an interactive table.\"\n",
              "              style=\"display:none;\">\n",
              "        \n",
              "  <svg xmlns=\"http://www.w3.org/2000/svg\" height=\"24px\"viewBox=\"0 0 24 24\"\n",
              "       width=\"24px\">\n",
              "    <path d=\"M0 0h24v24H0V0z\" fill=\"none\"/>\n",
              "    <path d=\"M18.56 5.44l.94 2.06.94-2.06 2.06-.94-2.06-.94-.94-2.06-.94 2.06-2.06.94zm-11 1L8.5 8.5l.94-2.06 2.06-.94-2.06-.94L8.5 2.5l-.94 2.06-2.06.94zm10 10l.94 2.06.94-2.06 2.06-.94-2.06-.94-.94-2.06-.94 2.06-2.06.94z\"/><path d=\"M17.41 7.96l-1.37-1.37c-.4-.4-.92-.59-1.43-.59-.52 0-1.04.2-1.43.59L10.3 9.45l-7.72 7.72c-.78.78-.78 2.05 0 2.83L4 21.41c.39.39.9.59 1.41.59.51 0 1.02-.2 1.41-.59l7.78-7.78 2.81-2.81c.8-.78.8-2.07 0-2.86zM5.41 20L4 18.59l7.72-7.72 1.47 1.35L5.41 20z\"/>\n",
              "  </svg>\n",
              "      </button>\n",
              "      \n",
              "  <style>\n",
              "    .colab-df-container {\n",
              "      display:flex;\n",
              "      flex-wrap:wrap;\n",
              "      gap: 12px;\n",
              "    }\n",
              "\n",
              "    .colab-df-convert {\n",
              "      background-color: #E8F0FE;\n",
              "      border: none;\n",
              "      border-radius: 50%;\n",
              "      cursor: pointer;\n",
              "      display: none;\n",
              "      fill: #1967D2;\n",
              "      height: 32px;\n",
              "      padding: 0 0 0 0;\n",
              "      width: 32px;\n",
              "    }\n",
              "\n",
              "    .colab-df-convert:hover {\n",
              "      background-color: #E2EBFA;\n",
              "      box-shadow: 0px 1px 2px rgba(60, 64, 67, 0.3), 0px 1px 3px 1px rgba(60, 64, 67, 0.15);\n",
              "      fill: #174EA6;\n",
              "    }\n",
              "\n",
              "    [theme=dark] .colab-df-convert {\n",
              "      background-color: #3B4455;\n",
              "      fill: #D2E3FC;\n",
              "    }\n",
              "\n",
              "    [theme=dark] .colab-df-convert:hover {\n",
              "      background-color: #434B5C;\n",
              "      box-shadow: 0px 1px 3px 1px rgba(0, 0, 0, 0.15);\n",
              "      filter: drop-shadow(0px 1px 2px rgba(0, 0, 0, 0.3));\n",
              "      fill: #FFFFFF;\n",
              "    }\n",
              "  </style>\n",
              "\n",
              "      <script>\n",
              "        const buttonEl =\n",
              "          document.querySelector('#df-6b4f4cd4-86c4-4157-8321-478d8c049294 button.colab-df-convert');\n",
              "        buttonEl.style.display =\n",
              "          google.colab.kernel.accessAllowed ? 'block' : 'none';\n",
              "\n",
              "        async function convertToInteractive(key) {\n",
              "          const element = document.querySelector('#df-6b4f4cd4-86c4-4157-8321-478d8c049294');\n",
              "          const dataTable =\n",
              "            await google.colab.kernel.invokeFunction('convertToInteractive',\n",
              "                                                     [key], {});\n",
              "          if (!dataTable) return;\n",
              "\n",
              "          const docLinkHtml = 'Like what you see? Visit the ' +\n",
              "            '<a target=\"_blank\" href=https://colab.research.google.com/notebooks/data_table.ipynb>data table notebook</a>'\n",
              "            + ' to learn more about interactive tables.';\n",
              "          element.innerHTML = '';\n",
              "          dataTable['output_type'] = 'display_data';\n",
              "          await google.colab.output.renderOutput(dataTable, element);\n",
              "          const docLink = document.createElement('div');\n",
              "          docLink.innerHTML = docLinkHtml;\n",
              "          element.appendChild(docLink);\n",
              "        }\n",
              "      </script>\n",
              "    </div>\n",
              "  </div>\n",
              "  "
            ]
          },
          "metadata": {},
          "execution_count": 4
        }
      ]
    },
    {
      "cell_type": "code",
      "source": [
        "df_anagrafica.info()"
      ],
      "metadata": {
        "colab": {
          "base_uri": "https://localhost:8080/"
        },
        "id": "jS42kvVnE_B6",
        "outputId": "9bd40e95-a517-4108-efb7-984dec2ee375"
      },
      "execution_count": 5,
      "outputs": [
        {
          "output_type": "stream",
          "name": "stdout",
          "text": [
            "<class 'pandas.core.frame.DataFrame'>\n",
            "RangeIndex: 11 entries, 0 to 10\n",
            "Data columns (total 7 columns):\n",
            " #   Column                Non-Null Count  Dtype         \n",
            "---  ------                --------------  -----         \n",
            " 0   Codice_Servizio       10 non-null     object        \n",
            " 1   Personal_Assistant    10 non-null     object        \n",
            " 2   Fornitore             10 non-null     object        \n",
            " 3   Data_attivazione      10 non-null     datetime64[ns]\n",
            " 4   Caratteristiche       10 non-null     object        \n",
            " 5   Capacità portafoglio  11 non-null     object        \n",
            " 6   Elenco_comuni         7 non-null      object        \n",
            "dtypes: datetime64[ns](1), object(6)\n",
            "memory usage: 744.0+ bytes\n"
          ]
        }
      ]
    },
    {
      "cell_type": "code",
      "source": [],
      "metadata": {
        "id": "1fJbZkaPFUFs"
      },
      "execution_count": null,
      "outputs": []
    }
  ]
}